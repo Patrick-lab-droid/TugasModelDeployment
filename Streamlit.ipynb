{
 "cells": [
  {
   "cell_type": "code",
   "execution_count": 4,
   "metadata": {},
   "outputs": [],
   "source": [
    "import streamlit as st\n",
    "import joblib\n",
    "import numpy as np"
   ]
  },
  {
   "cell_type": "code",
   "execution_count": 5,
   "metadata": {},
   "outputs": [],
   "source": [
    "model = joblib.load('RF_class.pkl')"
   ]
  },
  {
   "cell_type": "code",
   "execution_count": 6,
   "metadata": {},
   "outputs": [
    {
     "name": "stderr",
     "output_type": "stream",
     "text": [
      "2025-03-19 16:30:20.987 \n",
      "  \u001b[33m\u001b[1mWarning:\u001b[0m to view this Streamlit app on a browser, run it with the following\n",
      "  command:\n",
      "\n",
      "    streamlit run c:\\Anaconda3\\envs\\nlp\\Lib\\site-packages\\ipykernel_launcher.py [ARGUMENTS]\n"
     ]
    }
   ],
   "source": [
    "def main():\n",
    "    st.title('Mahcine Learning Model Deployment')\n",
    "    \n",
    "    sepal_length = st.slider('sepal_length', min_value = 0.0, max_value=10.0, value = 0.1)\n",
    "    sepal_width = st.slider('sepal_width', min_value = 0.0, max_value=10.0, value = 0.1)\n",
    "    petal_length = st.slider('petal_length', min_value = 0.0, max_value=10.0, value = 0.1)\n",
    "    petal_width = st.slider('petal_width', min_value = 0.0, max_value=10.0, value = 0.1)\n",
    "    \n",
    "    if st.button('Make Prediction'):\n",
    "        features = [sepal_length,sepal_width, petal_length, petal_width]\n",
    "        result = make_prediction(features)\n",
    "        st.success(f'The prediction is: {result}')\n",
    "\n",
    "def make_prediction(features):\n",
    "    input_array = np.array(features).reshape(1,-1)\n",
    "    prediction = model.predict(input_array)\n",
    "    return prediction[0]\n",
    "\n",
    "\n",
    "if __name__ == '__main__':\n",
    "    main()"
   ]
  }
 ],
 "metadata": {
  "kernelspec": {
   "display_name": "nlp",
   "language": "python",
   "name": "python3"
  },
  "language_info": {
   "codemirror_mode": {
    "name": "ipython",
    "version": 3
   },
   "file_extension": ".py",
   "mimetype": "text/x-python",
   "name": "python",
   "nbconvert_exporter": "python",
   "pygments_lexer": "ipython3",
   "version": "3.12.2"
  }
 },
 "nbformat": 4,
 "nbformat_minor": 2
}
